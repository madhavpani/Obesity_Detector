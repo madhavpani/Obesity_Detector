{
 "cells": [
  {
   "cell_type": "markdown",
   "id": "f1e18d23-409e-438f-b858-049a666800ee",
   "metadata": {},
   "source": [
    "## Obesity Prediction Using Deep Learning"
   ]
  },
  {
   "cell_type": "markdown",
   "id": "65c9e817-c623-4bae-a70b-930a14ed6a99",
   "metadata": {},
   "source": [
    "#### Import Libraries"
   ]
  },
  {
   "cell_type": "code",
   "execution_count": 1,
   "id": "d2e47554-d93f-4b81-bbfc-b3eceac517f7",
   "metadata": {},
   "outputs": [],
   "source": [
    "import pandas as pd\n",
    "import numpy as np\n",
    "import matplotlib.pyplot as plt\n",
    "import seaborn as sns\n",
    "import tensorflow as tf\n",
    "import keras\n",
    "from keras import layers\n",
    "from keras.utils import FeatureSpace"
   ]
  },
  {
   "cell_type": "code",
   "execution_count": 2,
   "id": "6d4a6663-92d3-466b-8234-fee1933d0009",
   "metadata": {},
   "outputs": [],
   "source": [
    "import warnings\n",
    "warnings.filterwarnings('ignore')"
   ]
  },
  {
   "cell_type": "markdown",
   "id": "3e257682-c168-4047-b7cd-933be2537dce",
   "metadata": {},
   "source": [
    "#### Load Dataset"
   ]
  },
  {
   "cell_type": "code",
   "execution_count": 3,
   "id": "8a45ffc7-7e3c-4d06-8306-8b243d186ca0",
   "metadata": {},
   "outputs": [
    {
     "data": {
      "text/html": [
       "<div>\n",
       "<style scoped>\n",
       "    .dataframe tbody tr th:only-of-type {\n",
       "        vertical-align: middle;\n",
       "    }\n",
       "\n",
       "    .dataframe tbody tr th {\n",
       "        vertical-align: top;\n",
       "    }\n",
       "\n",
       "    .dataframe thead th {\n",
       "        text-align: right;\n",
       "    }\n",
       "</style>\n",
       "<table border=\"1\" class=\"dataframe\">\n",
       "  <thead>\n",
       "    <tr style=\"text-align: right;\">\n",
       "      <th></th>\n",
       "      <th>Age</th>\n",
       "      <th>Gender</th>\n",
       "      <th>Height</th>\n",
       "      <th>Weight</th>\n",
       "      <th>BMI</th>\n",
       "      <th>PhysicalActivityLevel</th>\n",
       "      <th>ObesityCategory</th>\n",
       "    </tr>\n",
       "  </thead>\n",
       "  <tbody>\n",
       "    <tr>\n",
       "      <th>0</th>\n",
       "      <td>56</td>\n",
       "      <td>Male</td>\n",
       "      <td>173.575262</td>\n",
       "      <td>71.982051</td>\n",
       "      <td>23.891783</td>\n",
       "      <td>4</td>\n",
       "      <td>Normal weight</td>\n",
       "    </tr>\n",
       "    <tr>\n",
       "      <th>1</th>\n",
       "      <td>69</td>\n",
       "      <td>Male</td>\n",
       "      <td>164.127306</td>\n",
       "      <td>89.959256</td>\n",
       "      <td>33.395209</td>\n",
       "      <td>2</td>\n",
       "      <td>Obese</td>\n",
       "    </tr>\n",
       "    <tr>\n",
       "      <th>2</th>\n",
       "      <td>46</td>\n",
       "      <td>Female</td>\n",
       "      <td>168.072202</td>\n",
       "      <td>72.930629</td>\n",
       "      <td>25.817737</td>\n",
       "      <td>4</td>\n",
       "      <td>Overweight</td>\n",
       "    </tr>\n",
       "  </tbody>\n",
       "</table>\n",
       "</div>"
      ],
      "text/plain": [
       "   Age  Gender      Height     Weight        BMI  PhysicalActivityLevel  \\\n",
       "0   56    Male  173.575262  71.982051  23.891783                      4   \n",
       "1   69    Male  164.127306  89.959256  33.395209                      2   \n",
       "2   46  Female  168.072202  72.930629  25.817737                      4   \n",
       "\n",
       "  ObesityCategory  \n",
       "0   Normal weight  \n",
       "1           Obese  \n",
       "2      Overweight  "
      ]
     },
     "execution_count": 3,
     "metadata": {},
     "output_type": "execute_result"
    }
   ],
   "source": [
    "obesity_df = pd.read_csv('obesity_data.csv')\n",
    "obesity_df.head(3)"
   ]
  },
  {
   "cell_type": "markdown",
   "id": "16b1f242-b284-4821-ab24-4e5c85a4e43b",
   "metadata": {},
   "source": [
    "## Dataset Properties"
   ]
  },
  {
   "cell_type": "markdown",
   "id": "a7d4bbbc-7ca3-4d64-8e6a-8c38f2f66ce8",
   "metadata": {},
   "source": [
    "#### Shape"
   ]
  },
  {
   "cell_type": "code",
   "execution_count": 4,
   "id": "367dc716-415d-486e-aec1-103b7a3a7f94",
   "metadata": {},
   "outputs": [
    {
     "data": {
      "text/plain": [
       "(1000, 7)"
      ]
     },
     "execution_count": 4,
     "metadata": {},
     "output_type": "execute_result"
    }
   ],
   "source": [
    "obesity_df.shape"
   ]
  },
  {
   "cell_type": "markdown",
   "id": "b14b9319-d76c-44f1-b777-70f3e6d7a0df",
   "metadata": {},
   "source": [
    "#### Columns"
   ]
  },
  {
   "cell_type": "code",
   "execution_count": 5,
   "id": "e52dd7ea-302f-4934-b2e0-b667df02597d",
   "metadata": {},
   "outputs": [
    {
     "data": {
      "text/plain": [
       "Index(['Age', 'Gender', 'Height', 'Weight', 'BMI', 'PhysicalActivityLevel',\n",
       "       'ObesityCategory'],\n",
       "      dtype='object')"
      ]
     },
     "execution_count": 5,
     "metadata": {},
     "output_type": "execute_result"
    }
   ],
   "source": [
    "obesity_df.columns"
   ]
  },
  {
   "cell_type": "markdown",
   "id": "7fc748c7-9e6f-40b7-8499-9dc3a19d9996",
   "metadata": {},
   "source": [
    "#### Numerical Columns"
   ]
  },
  {
   "cell_type": "code",
   "execution_count": 6,
   "id": "3eb280a4-87f0-457b-843b-2831f45bab2c",
   "metadata": {},
   "outputs": [
    {
     "data": {
      "text/plain": [
       "Index(['Age', 'Height', 'Weight', 'BMI', 'PhysicalActivityLevel'], dtype='object')"
      ]
     },
     "execution_count": 6,
     "metadata": {},
     "output_type": "execute_result"
    }
   ],
   "source": [
    "obesity_df.select_dtypes(include='number').columns"
   ]
  },
  {
   "cell_type": "markdown",
   "id": "aa44ce40-cece-485c-afbb-eb52c151d456",
   "metadata": {},
   "source": [
    "#### Categorical Columns"
   ]
  },
  {
   "cell_type": "code",
   "execution_count": 7,
   "id": "a95d931f-7fa2-4c31-a539-2e25f3eb6ac0",
   "metadata": {},
   "outputs": [
    {
     "data": {
      "text/plain": [
       "Index(['Gender', 'ObesityCategory'], dtype='object')"
      ]
     },
     "execution_count": 7,
     "metadata": {},
     "output_type": "execute_result"
    }
   ],
   "source": [
    "obesity_df.select_dtypes(include='object').columns"
   ]
  },
  {
   "cell_type": "markdown",
   "id": "d438aac2-e84e-4897-ac07-3609439efaba",
   "metadata": {},
   "source": [
    "#### More Information about Df"
   ]
  },
  {
   "cell_type": "code",
   "execution_count": 8,
   "id": "948b5dc7-ffee-4b81-b991-7341a2424e93",
   "metadata": {},
   "outputs": [
    {
     "name": "stdout",
     "output_type": "stream",
     "text": [
      "<class 'pandas.core.frame.DataFrame'>\n",
      "RangeIndex: 1000 entries, 0 to 999\n",
      "Data columns (total 7 columns):\n",
      " #   Column                 Non-Null Count  Dtype  \n",
      "---  ------                 --------------  -----  \n",
      " 0   Age                    1000 non-null   int64  \n",
      " 1   Gender                 1000 non-null   object \n",
      " 2   Height                 1000 non-null   float64\n",
      " 3   Weight                 1000 non-null   float64\n",
      " 4   BMI                    1000 non-null   float64\n",
      " 5   PhysicalActivityLevel  1000 non-null   int64  \n",
      " 6   ObesityCategory        1000 non-null   object \n",
      "dtypes: float64(3), int64(2), object(2)\n",
      "memory usage: 54.8+ KB\n"
     ]
    }
   ],
   "source": [
    "obesity_df.info()"
   ]
  },
  {
   "cell_type": "markdown",
   "id": "283a8b06-7d7c-4c30-ae56-feee4b6f0784",
   "metadata": {},
   "source": [
    "#### Quantiles and Percentiles of Numerical Columns"
   ]
  },
  {
   "cell_type": "code",
   "execution_count": 9,
   "id": "7a1092ae-53aa-468e-bb36-3acef62b3369",
   "metadata": {},
   "outputs": [
    {
     "data": {
      "text/html": [
       "<div>\n",
       "<style scoped>\n",
       "    .dataframe tbody tr th:only-of-type {\n",
       "        vertical-align: middle;\n",
       "    }\n",
       "\n",
       "    .dataframe tbody tr th {\n",
       "        vertical-align: top;\n",
       "    }\n",
       "\n",
       "    .dataframe thead th {\n",
       "        text-align: right;\n",
       "    }\n",
       "</style>\n",
       "<table border=\"1\" class=\"dataframe\">\n",
       "  <thead>\n",
       "    <tr style=\"text-align: right;\">\n",
       "      <th></th>\n",
       "      <th>Age</th>\n",
       "      <th>Height</th>\n",
       "      <th>Weight</th>\n",
       "      <th>BMI</th>\n",
       "      <th>PhysicalActivityLevel</th>\n",
       "    </tr>\n",
       "  </thead>\n",
       "  <tbody>\n",
       "    <tr>\n",
       "      <th>count</th>\n",
       "      <td>1000.000000</td>\n",
       "      <td>1000.000000</td>\n",
       "      <td>1000.000000</td>\n",
       "      <td>1000.000000</td>\n",
       "      <td>1000.000000</td>\n",
       "    </tr>\n",
       "    <tr>\n",
       "      <th>mean</th>\n",
       "      <td>49.857000</td>\n",
       "      <td>170.052417</td>\n",
       "      <td>71.205769</td>\n",
       "      <td>24.888317</td>\n",
       "      <td>2.534000</td>\n",
       "    </tr>\n",
       "    <tr>\n",
       "      <th>std</th>\n",
       "      <td>18.114267</td>\n",
       "      <td>10.309971</td>\n",
       "      <td>15.509849</td>\n",
       "      <td>6.193912</td>\n",
       "      <td>1.116284</td>\n",
       "    </tr>\n",
       "    <tr>\n",
       "      <th>min</th>\n",
       "      <td>18.000000</td>\n",
       "      <td>136.115719</td>\n",
       "      <td>26.065730</td>\n",
       "      <td>8.470572</td>\n",
       "      <td>1.000000</td>\n",
       "    </tr>\n",
       "    <tr>\n",
       "      <th>25%</th>\n",
       "      <td>35.000000</td>\n",
       "      <td>163.514205</td>\n",
       "      <td>61.129629</td>\n",
       "      <td>20.918068</td>\n",
       "      <td>2.000000</td>\n",
       "    </tr>\n",
       "    <tr>\n",
       "      <th>50%</th>\n",
       "      <td>50.000000</td>\n",
       "      <td>169.801665</td>\n",
       "      <td>71.929072</td>\n",
       "      <td>24.698647</td>\n",
       "      <td>3.000000</td>\n",
       "    </tr>\n",
       "    <tr>\n",
       "      <th>75%</th>\n",
       "      <td>66.000000</td>\n",
       "      <td>177.353596</td>\n",
       "      <td>81.133746</td>\n",
       "      <td>28.732132</td>\n",
       "      <td>4.000000</td>\n",
       "    </tr>\n",
       "    <tr>\n",
       "      <th>max</th>\n",
       "      <td>79.000000</td>\n",
       "      <td>201.419670</td>\n",
       "      <td>118.907366</td>\n",
       "      <td>50.791898</td>\n",
       "      <td>4.000000</td>\n",
       "    </tr>\n",
       "  </tbody>\n",
       "</table>\n",
       "</div>"
      ],
      "text/plain": [
       "               Age       Height       Weight          BMI  \\\n",
       "count  1000.000000  1000.000000  1000.000000  1000.000000   \n",
       "mean     49.857000   170.052417    71.205769    24.888317   \n",
       "std      18.114267    10.309971    15.509849     6.193912   \n",
       "min      18.000000   136.115719    26.065730     8.470572   \n",
       "25%      35.000000   163.514205    61.129629    20.918068   \n",
       "50%      50.000000   169.801665    71.929072    24.698647   \n",
       "75%      66.000000   177.353596    81.133746    28.732132   \n",
       "max      79.000000   201.419670   118.907366    50.791898   \n",
       "\n",
       "       PhysicalActivityLevel  \n",
       "count            1000.000000  \n",
       "mean                2.534000  \n",
       "std                 1.116284  \n",
       "min                 1.000000  \n",
       "25%                 2.000000  \n",
       "50%                 3.000000  \n",
       "75%                 4.000000  \n",
       "max                 4.000000  "
      ]
     },
     "execution_count": 9,
     "metadata": {},
     "output_type": "execute_result"
    }
   ],
   "source": [
    "obesity_df.describe()"
   ]
  },
  {
   "cell_type": "markdown",
   "id": "a0dd7bb8-e476-4bd1-80c7-957bb11a40c9",
   "metadata": {},
   "source": [
    "#### Correlation among Numerical Columns"
   ]
  },
  {
   "cell_type": "code",
   "execution_count": 10,
   "id": "98a68b2a-7e02-4c4e-a13a-efdbd9b65fd4",
   "metadata": {},
   "outputs": [
    {
     "data": {
      "text/html": [
       "<div>\n",
       "<style scoped>\n",
       "    .dataframe tbody tr th:only-of-type {\n",
       "        vertical-align: middle;\n",
       "    }\n",
       "\n",
       "    .dataframe tbody tr th {\n",
       "        vertical-align: top;\n",
       "    }\n",
       "\n",
       "    .dataframe thead th {\n",
       "        text-align: right;\n",
       "    }\n",
       "</style>\n",
       "<table border=\"1\" class=\"dataframe\">\n",
       "  <thead>\n",
       "    <tr style=\"text-align: right;\">\n",
       "      <th></th>\n",
       "      <th>Age</th>\n",
       "      <th>Height</th>\n",
       "      <th>Weight</th>\n",
       "      <th>BMI</th>\n",
       "      <th>PhysicalActivityLevel</th>\n",
       "    </tr>\n",
       "  </thead>\n",
       "  <tbody>\n",
       "    <tr>\n",
       "      <th>Age</th>\n",
       "      <td>1.000000</td>\n",
       "      <td>0.019647</td>\n",
       "      <td>-0.061400</td>\n",
       "      <td>-0.059971</td>\n",
       "      <td>-0.022308</td>\n",
       "    </tr>\n",
       "    <tr>\n",
       "      <th>Height</th>\n",
       "      <td>0.019647</td>\n",
       "      <td>1.000000</td>\n",
       "      <td>0.016033</td>\n",
       "      <td>-0.477091</td>\n",
       "      <td>0.030380</td>\n",
       "    </tr>\n",
       "    <tr>\n",
       "      <th>Weight</th>\n",
       "      <td>-0.061400</td>\n",
       "      <td>0.016033</td>\n",
       "      <td>1.000000</td>\n",
       "      <td>0.861438</td>\n",
       "      <td>0.063406</td>\n",
       "    </tr>\n",
       "    <tr>\n",
       "      <th>BMI</th>\n",
       "      <td>-0.059971</td>\n",
       "      <td>-0.477091</td>\n",
       "      <td>0.861438</td>\n",
       "      <td>1.000000</td>\n",
       "      <td>0.038020</td>\n",
       "    </tr>\n",
       "    <tr>\n",
       "      <th>PhysicalActivityLevel</th>\n",
       "      <td>-0.022308</td>\n",
       "      <td>0.030380</td>\n",
       "      <td>0.063406</td>\n",
       "      <td>0.038020</td>\n",
       "      <td>1.000000</td>\n",
       "    </tr>\n",
       "  </tbody>\n",
       "</table>\n",
       "</div>"
      ],
      "text/plain": [
       "                            Age    Height    Weight       BMI  \\\n",
       "Age                    1.000000  0.019647 -0.061400 -0.059971   \n",
       "Height                 0.019647  1.000000  0.016033 -0.477091   \n",
       "Weight                -0.061400  0.016033  1.000000  0.861438   \n",
       "BMI                   -0.059971 -0.477091  0.861438  1.000000   \n",
       "PhysicalActivityLevel -0.022308  0.030380  0.063406  0.038020   \n",
       "\n",
       "                       PhysicalActivityLevel  \n",
       "Age                                -0.022308  \n",
       "Height                              0.030380  \n",
       "Weight                              0.063406  \n",
       "BMI                                 0.038020  \n",
       "PhysicalActivityLevel               1.000000  "
      ]
     },
     "execution_count": 10,
     "metadata": {},
     "output_type": "execute_result"
    }
   ],
   "source": [
    "obesity_df.corr(numeric_only=True)"
   ]
  },
  {
   "cell_type": "markdown",
   "id": "80009f7e-2842-4040-9a69-c9f677e82a99",
   "metadata": {},
   "source": [
    "#### Unique Values in Categorical Columns"
   ]
  },
  {
   "cell_type": "code",
   "execution_count": 11,
   "id": "d82a0dc7-b5fc-4fa8-8bcb-8a16d5bdcdb3",
   "metadata": {},
   "outputs": [
    {
     "data": {
      "text/plain": [
       "array(['Male', 'Female'], dtype=object)"
      ]
     },
     "execution_count": 11,
     "metadata": {},
     "output_type": "execute_result"
    }
   ],
   "source": [
    "obesity_df['Gender'].unique()"
   ]
  },
  {
   "cell_type": "code",
   "execution_count": 12,
   "id": "eb84eb5f-a029-4d32-b2cf-8a4ba80bfa8d",
   "metadata": {},
   "outputs": [
    {
     "data": {
      "text/plain": [
       "array(['Normal weight', 'Obese', 'Overweight', 'Underweight'],\n",
       "      dtype=object)"
      ]
     },
     "execution_count": 12,
     "metadata": {},
     "output_type": "execute_result"
    }
   ],
   "source": [
    "obesity_df['ObesityCategory'].unique()"
   ]
  },
  {
   "cell_type": "code",
   "execution_count": 56,
   "id": "e707fc2a-75a1-4cd0-bd59-ac3099567ef0",
   "metadata": {},
   "outputs": [
    {
     "data": {
      "text/plain": [
       "array([4, 2, 3, 1], dtype=int64)"
      ]
     },
     "execution_count": 56,
     "metadata": {},
     "output_type": "execute_result"
    }
   ],
   "source": [
    "obesity_df['PhysicalActivityLevel'].unique()"
   ]
  },
  {
   "cell_type": "markdown",
   "id": "98cb3b36-26cc-4797-964a-4e74fb065379",
   "metadata": {},
   "source": [
    "#### Value Counts of Unique Elements of Categorical Columns"
   ]
  },
  {
   "cell_type": "code",
   "execution_count": 13,
   "id": "174d2513-3476-4e35-bf32-c94dee01c963",
   "metadata": {},
   "outputs": [
    {
     "data": {
      "text/plain": [
       "Gender\n",
       "Male      523\n",
       "Female    477\n",
       "Name: count, dtype: int64"
      ]
     },
     "execution_count": 13,
     "metadata": {},
     "output_type": "execute_result"
    }
   ],
   "source": [
    "obesity_df['Gender'].value_counts()"
   ]
  },
  {
   "cell_type": "code",
   "execution_count": 14,
   "id": "f2174baa-824e-486a-aa68-237231f2f356",
   "metadata": {},
   "outputs": [
    {
     "data": {
      "text/plain": [
       "ObesityCategory\n",
       "Normal weight    371\n",
       "Overweight       295\n",
       "Obese            191\n",
       "Underweight      143\n",
       "Name: count, dtype: int64"
      ]
     },
     "execution_count": 14,
     "metadata": {},
     "output_type": "execute_result"
    }
   ],
   "source": [
    "obesity_df['ObesityCategory'].value_counts()"
   ]
  },
  {
   "cell_type": "markdown",
   "id": "5b1a9bf3-df10-4517-99b0-84900a27e7e6",
   "metadata": {},
   "source": [
    "## Data Cleaning"
   ]
  },
  {
   "cell_type": "markdown",
   "id": "08913df3-611f-4417-8c9e-ac7b3207503c",
   "metadata": {},
   "source": [
    "#### Remove Duplicates"
   ]
  },
  {
   "cell_type": "code",
   "execution_count": 15,
   "id": "7a970054-7db6-4619-8142-98a519c69299",
   "metadata": {},
   "outputs": [
    {
     "data": {
      "text/plain": [
       "0"
      ]
     },
     "execution_count": 15,
     "metadata": {},
     "output_type": "execute_result"
    }
   ],
   "source": [
    "obesity_df.duplicated().sum()"
   ]
  },
  {
   "cell_type": "markdown",
   "id": "9e36af9e-03ce-4aed-a371-cf8c1bcdd88f",
   "metadata": {},
   "source": [
    "#### Nulls"
   ]
  },
  {
   "cell_type": "code",
   "execution_count": 16,
   "id": "0f77ff09-41d1-4626-ad2b-e3902778d6c6",
   "metadata": {},
   "outputs": [
    {
     "data": {
      "text/plain": [
       "Age                      0\n",
       "Gender                   0\n",
       "Height                   0\n",
       "Weight                   0\n",
       "BMI                      0\n",
       "PhysicalActivityLevel    0\n",
       "ObesityCategory          0\n",
       "dtype: int64"
      ]
     },
     "execution_count": 16,
     "metadata": {},
     "output_type": "execute_result"
    }
   ],
   "source": [
    "obesity_df.isnull().sum()"
   ]
  },
  {
   "cell_type": "markdown",
   "id": "cc1aacaf-50c4-41eb-be48-57c21656bab6",
   "metadata": {},
   "source": [
    "## EDA"
   ]
  },
  {
   "cell_type": "markdown",
   "id": "82c7900f-f225-4b60-96c8-9646cf8d2642",
   "metadata": {},
   "source": [
    "#### Categorical Columns"
   ]
  },
  {
   "cell_type": "code",
   "execution_count": 17,
   "id": "2ff74b5b-a8e0-4b3c-bd42-a9864729b032",
   "metadata": {},
   "outputs": [
    {
     "data": {
      "image/png": "[encoded data removed]",
      "text/plain": [
       "<Figure size 800x400 with 2 Axes>"
      ]
     },
     "metadata": {},
     "output_type": "display_data"
    }
   ],
   "source": [
    "cols = obesity_df.select_dtypes(include='object').columns\n",
    "\n",
    "plt.subplots(1, 2, figsize=(2*4, 1*4))\n",
    "plt.subplots_adjust(wspace=0.3)\n",
    "\n",
    "for i, col in enumerate(cols):\n",
    "    col_dict = dict(obesity_df[col].value_counts())\n",
    "    plt.subplot(1, 2, i+1)\n",
    "    plt.pie(x=col_dict.values(), labels=col_dict.keys(), autopct='%1.1f%%', startangle=90)\n",
    "    plt.title(f'{col}')\n",
    "\n",
    "plt.show()"
   ]
  },
  {
   "cell_type": "code",
   "execution_count": 18,
   "id": "5b8a32a7-3b47-4d85-a91e-684ae9b2ab2b",
   "metadata": {},
   "outputs": [
    {
     "data": {
      "image/png": "[encoded data removed]",
      "text/plain": [
       "<Figure size 400x400 with 1 Axes>"
      ]
     },
     "metadata": {},
     "output_type": "display_data"
    }
   ],
   "source": [
    "plt.figure(figsize=(4,4))\n",
    "sns.countplot(x = 'Gender', hue = 'ObesityCategory', data = obesity_df)\n",
    "plt.show()"
   ]
  },
  {
   "cell_type": "markdown",
   "id": "bcc5c768-a8c0-4529-bc64-5eb5bab36e6a",
   "metadata": {},
   "source": [
    "#### Numerical Columns"
   ]
  },
  {
   "cell_type": "code",
   "execution_count": 19,
   "id": "1ad971e4-b80e-407a-a6d3-9e02425cf905",
   "metadata": {},
   "outputs": [
    {
     "data": {
      "image/png": "[encoded data removed]",
      "text/plain": [
       "<Figure size 1200x800 with 6 Axes>"
      ]
     },
     "metadata": {},
     "output_type": "display_data"
    }
   ],
   "source": [
    "cols = obesity_df.select_dtypes(include='number').columns\n",
    "\n",
    "plt.subplots(2,3,figsize=(3*4,2*4))\n",
    "plt.subplots_adjust(wspace=0.3, hspace=0.3)\n",
    "\n",
    "for i, col in enumerate(cols):\n",
    "    plt.subplot(2,3,i+1)\n",
    "    sns.histplot(x=col, data=obesity_df, kde=True)\n",
    "\n",
    "plt.show()"
   ]
  },
  {
   "cell_type": "code",
   "execution_count": 20,
   "id": "9a630b6a-80ad-4465-b6ae-b4b8b695f756",
   "metadata": {},
   "outputs": [
    {
     "data": {
      "image/png": "[encoded data removed]",
      "text/plain": [
       "<Figure size 1200x800 with 6 Axes>"
      ]
     },
     "metadata": {},
     "output_type": "display_data"
    }
   ],
   "source": [
    "plt.subplots(2,3,figsize=(3*4,2*4))\n",
    "plt.subplots_adjust(wspace=0.3, hspace=0.3)\n",
    "\n",
    "for i, col in enumerate(cols):\n",
    "    plt.subplot(2,3,i+1)\n",
    "    sns.boxplot(x=col, data=obesity_df)\n",
    "\n",
    "plt.show()"
   ]
  },
  {
   "cell_type": "markdown",
   "id": "3ce49203-011b-42ee-afad-52a83f63fdbe",
   "metadata": {},
   "source": [
    "## Data Splitting"
   ]
  },
  {
   "cell_type": "code",
   "execution_count": 21,
   "id": "8e15dcc4-78bb-4714-8ae6-2bed18dc5bce",
   "metadata": {},
   "outputs": [
    {
     "data": {
      "text/plain": [
       "((800, 7), (200, 7))"
      ]
     },
     "execution_count": 21,
     "metadata": {},
     "output_type": "execute_result"
    }
   ],
   "source": [
    "test = obesity_df.sample(frac=0.2, random_state=42)\n",
    "train = obesity_df.drop(test.index)\n",
    "\n",
    "train.shape, test.shape"
   ]
  },
  {
   "cell_type": "markdown",
   "id": "1c2ae570-0203-42bf-b590-b4a52e5e309f",
   "metadata": {},
   "source": [
    "## Generate tf Dataset"
   ]
  },
  {
   "cell_type": "markdown",
   "id": "59ae2d1a-bc2b-4f1a-841c-bb2431796f7d",
   "metadata": {},
   "source": [
    "#### Encode Labels"
   ]
  },
  {
   "cell_type": "code",
   "execution_count": 26,
   "id": "b6f0fdde-0bdb-46fe-9097-014c9457b7aa",
   "metadata": {},
   "outputs": [],
   "source": [
    "label_lookup = layers.StringLookup(\n",
    "    vocabulary=['Normal weight', 'Underweight', 'Overweight', 'Obese'],\n",
    "    num_oov_indices=0\n",
    ")"
   ]
  },
  {
   "cell_type": "code",
   "execution_count": 27,
   "id": "f221d616-8963-4e9d-8f4d-8252fa7859ad",
   "metadata": {},
   "outputs": [],
   "source": [
    "def encode_labels(x, y):\n",
    "    encoded_y = label_lookup(y)\n",
    "    return x, encoded_y"
   ]
  },
  {
   "cell_type": "code",
   "execution_count": 28,
   "id": "6b22bc31-0e82-4b5e-92a5-a37060f13351",
   "metadata": {},
   "outputs": [],
   "source": [
    "def df_to_ds(df):\n",
    "    df = df.copy()\n",
    "    labels = df.pop('ObesityCategory')\n",
    "    ds = tf.data.Dataset.from_tensor_slices((dict(df), labels))\n",
    "    ds = ds.map(encode_labels, num_parallel_calls=tf.data.AUTOTUNE)\n",
    "    ds = ds.shuffle(buffer_size=len(df))\n",
    "    return ds\n",
    "\n",
    "train_ds = df_to_ds(train)\n",
    "test_ds = df_to_ds(test)"
   ]
  },
  {
   "cell_type": "code",
   "execution_count": 29,
   "id": "6f589f2d-31dc-4611-84a1-a1f020915fc5",
   "metadata": {},
   "outputs": [
    {
     "name": "stdout",
     "output_type": "stream",
     "text": [
      "{'Age': <tf.Tensor: shape=(), dtype=int64, numpy=20>, 'Gender': <tf.Tensor: shape=(), dtype=string, numpy=b'Male'>, 'Height': <tf.Tensor: shape=(), dtype=float64, numpy=172.36424676262448>, 'Weight': <tf.Tensor: shape=(), dtype=float64, numpy=33.85788518172564>, 'BMI': <tf.Tensor: shape=(), dtype=float64, numpy=11.39634153946923>, 'PhysicalActivityLevel': <tf.Tensor: shape=(), dtype=int64, numpy=3>} \n",
      "\n",
      " tf.Tensor(1, shape=(), dtype=int64)\n"
     ]
    }
   ],
   "source": [
    "for x, y in train_ds.take(1):\n",
    "    print(x, '\\n\\n', y)"
   ]
  },
  {
   "cell_type": "code",
   "execution_count": null,
   "id": "18c1fcc7-6286-43b5-a453-bdc86c4cab6e",
   "metadata": {},
   "outputs": [],
   "source": [
    "num_classes = len(obesity_df['ObesityCategory'].unique())\n",
    "\n",
    "def encode_labels(x, y):\n",
    "    y = tf.one_hot(y, depth=num_classes)\n",
    "    return x, y"
   ]
  },
  {
   "cell_type": "code",
   "execution_count": null,
   "id": "3d978192-999c-47dc-b50b-9f96026bac15",
   "metadata": {},
   "outputs": [],
   "source": [
    "train_ds.map(encode_labels)"
   ]
  },
  {
   "cell_type": "markdown",
   "id": "1a2431ae-e461-46d5-b7b2-9c0d8e963f3e",
   "metadata": {},
   "source": [
    "## Dataset Batching"
   ]
  },
  {
   "cell_type": "code",
   "execution_count": 30,
   "id": "1c4d1e63-c9d7-4932-bb69-8f6e90d76063",
   "metadata": {},
   "outputs": [],
   "source": [
    "train_ds = train_ds.batch(32)\n",
    "test_ds = test_ds.batch(32)"
   ]
  },
  {
   "cell_type": "markdown",
   "id": "63d36ee6-820e-4649-becd-96f44c22b380",
   "metadata": {},
   "source": [
    "## Feature Space"
   ]
  },
  {
   "cell_type": "code",
   "execution_count": 31,
   "id": "258fb1e3-635e-47ba-85ca-e7de8cbbe92f",
   "metadata": {},
   "outputs": [],
   "source": [
    "feature_space = FeatureSpace(\n",
    "    features={\n",
    "        'Age': FeatureSpace.float_discretized(num_bins=4),\n",
    "        'Gender': FeatureSpace.string_categorical(num_oov_indices=0),\n",
    "        'Height': FeatureSpace.float_normalized(),\n",
    "        'Weight': FeatureSpace.float_discretized(num_bins=8),\n",
    "        'BMI': FeatureSpace.float_discretized(num_bins=5),\n",
    "        'PhysicalActivityLevel': FeatureSpace.integer_categorical(num_oov_indices=0)\n",
    "    },\n",
    "    output_mode='concat',\n",
    ")"
   ]
  },
  {
   "cell_type": "markdown",
   "id": "452bb362-c7a6-4c91-9e1e-d70faa37d4be",
   "metadata": {},
   "source": [
    "#### Adapt Feature Space "
   ]
  },
  {
   "cell_type": "code",
   "execution_count": 32,
   "id": "ea8373b6-7f24-4a63-b293-4b86fb448859",
   "metadata": {},
   "outputs": [],
   "source": [
    "train_ds_with_no_labels = train_ds.map(lambda x, y: x)"
   ]
  },
  {
   "cell_type": "code",
   "execution_count": 33,
   "id": "1f618ff7-84a3-4f90-bb86-527feca790fa",
   "metadata": {},
   "outputs": [
    {
     "name": "stdout",
     "output_type": "stream",
     "text": [
      "WARNING:tensorflow:From C:\\Users\\Madhavz\\anaconda3\\Lib\\site-packages\\keras\\src\\backend\\tensorflow\\core.py:222: The name tf.placeholder is deprecated. Please use tf.compat.v1.placeholder instead.\n",
      "\n"
     ]
    }
   ],
   "source": [
    "feature_space.adapt(train_ds_with_no_labels)"
   ]
  },
  {
   "cell_type": "markdown",
   "id": "e02fe88a-2a18-45c9-b184-53c8bc5a402f",
   "metadata": {},
   "source": [
    "## Data Preprocessing"
   ]
  },
  {
   "cell_type": "code",
   "execution_count": 34,
   "id": "50eb99ee-a256-4560-b048-2257370de804",
   "metadata": {},
   "outputs": [],
   "source": [
    "preprocessed_train_ds = train_ds.map(\n",
    "    lambda x, y: (feature_space(x), y),\n",
    "    num_parallel_calls=tf.data.AUTOTUNE\n",
    ").prefetch(tf.data.AUTOTUNE)\n",
    "\n",
    "preprocessed_test_ds = test_ds.map(\n",
    "    lambda x, y: (feature_space(x), y),\n",
    "    num_parallel_calls=tf.data.AUTOTUNE\n",
    ").prefetch(tf.data.AUTOTUNE)"
   ]
  },
  {
   "cell_type": "markdown",
   "id": "ddbd6ad2-c5dc-4f42-836e-f3c8f60a932e",
   "metadata": {},
   "source": [
    "## Model Building"
   ]
  },
  {
   "cell_type": "markdown",
   "id": "45c3bee4-0ab3-4f27-9ac8-f4289d9ec201",
   "metadata": {},
   "source": [
    "#### Inputs"
   ]
  },
  {
   "cell_type": "code",
   "execution_count": 35,
   "id": "73437a44-1992-4bb7-989e-0cb567ae5790",
   "metadata": {},
   "outputs": [],
   "source": [
    "raw_inputs = feature_space.get_inputs()\n",
    "encoded_inputs = feature_space.get_encoded_features()"
   ]
  },
  {
   "cell_type": "markdown",
   "id": "e69f3136-dbf7-41d5-97f1-5a275a18a0a3",
   "metadata": {},
   "source": [
    "#### Layers"
   ]
  },
  {
   "cell_type": "code",
   "execution_count": 38,
   "id": "9528bb69-4726-47ac-a7b9-1478fea36029",
   "metadata": {},
   "outputs": [],
   "source": [
    "x = layers.Dense(32, activation='relu')(encoded_inputs)\n",
    "x = layers.Dropout(0.5)(x)\n",
    "outputs = layers.Dense(4, activation='softmax')(x)"
   ]
  },
  {
   "cell_type": "markdown",
   "id": "f2f76c71-ae54-4706-a5a4-115118f5704e",
   "metadata": {},
   "source": [
    "#### Models"
   ]
  },
  {
   "cell_type": "code",
   "execution_count": 40,
   "id": "f1363081-e188-4c1f-b63d-28cd6ed9e841",
   "metadata": {},
   "outputs": [],
   "source": [
    "training_model = keras.Model(inputs=encoded_inputs, outputs=outputs)\n",
    "inference_model = keras.Model(inputs=raw_inputs, outputs=outputs)"
   ]
  },
  {
   "cell_type": "markdown",
   "id": "dd681519-8f03-48f6-9250-32949ca39b03",
   "metadata": {},
   "source": [
    "#### Compilation"
   ]
  },
  {
   "cell_type": "code",
   "execution_count": 49,
   "id": "de9534d3-b5a0-4cef-be9c-d54e233f2bd3",
   "metadata": {},
   "outputs": [],
   "source": [
    "training_model.compile(\n",
    "    optimizer='adam', loss=keras.losses.sparse_categorical_crossentropy, metrics=['accuracy']\n",
    ")"
   ]
  },
  {
   "cell_type": "markdown",
   "id": "6b39e029-ed16-48ee-9aaa-4abb55684b73",
   "metadata": {},
   "source": [
    "#### Training"
   ]
  },
  {
   "cell_type": "code",
   "execution_count": 53,
   "id": "3f1b98fc-73d0-45ff-8b3b-57bb33507d5a",
   "metadata": {},
   "outputs": [
    {
     "name": "stdout",
     "output_type": "stream",
     "text": [
      "Epoch 1/50\n",
      "25/25 - 0s - 8ms/step - accuracy: 0.8875 - loss: 0.2586 - val_accuracy: 0.8700 - val_loss: 0.2795\n",
      "Epoch 2/50\n",
      "25/25 - 0s - 9ms/step - accuracy: 0.8913 - loss: 0.2600 - val_accuracy: 0.8650 - val_loss: 0.2812\n",
      "Epoch 3/50\n",
      "25/25 - 0s - 9ms/step - accuracy: 0.8888 - loss: 0.2617 - val_accuracy: 0.8650 - val_loss: 0.2812\n",
      "Epoch 4/50\n",
      "25/25 - 0s - 9ms/step - accuracy: 0.8975 - loss: 0.2535 - val_accuracy: 0.8600 - val_loss: 0.2858\n",
      "Epoch 5/50\n",
      "25/25 - 0s - 9ms/step - accuracy: 0.8913 - loss: 0.2530 - val_accuracy: 0.8700 - val_loss: 0.2794\n",
      "Epoch 6/50\n",
      "25/25 - 0s - 9ms/step - accuracy: 0.8963 - loss: 0.2567 - val_accuracy: 0.8650 - val_loss: 0.2779\n",
      "Epoch 7/50\n",
      "25/25 - 0s - 9ms/step - accuracy: 0.8963 - loss: 0.2520 - val_accuracy: 0.8650 - val_loss: 0.2788\n",
      "Epoch 8/50\n",
      "25/25 - 0s - 9ms/step - accuracy: 0.8863 - loss: 0.2587 - val_accuracy: 0.8700 - val_loss: 0.2777\n",
      "Epoch 9/50\n",
      "25/25 - 0s - 9ms/step - accuracy: 0.8938 - loss: 0.2579 - val_accuracy: 0.8700 - val_loss: 0.2755\n",
      "Epoch 10/50\n",
      "25/25 - 0s - 10ms/step - accuracy: 0.8925 - loss: 0.2508 - val_accuracy: 0.8700 - val_loss: 0.2763\n",
      "Epoch 11/50\n",
      "25/25 - 0s - 9ms/step - accuracy: 0.8913 - loss: 0.2598 - val_accuracy: 0.8700 - val_loss: 0.2733\n",
      "Epoch 12/50\n",
      "25/25 - 0s - 9ms/step - accuracy: 0.8975 - loss: 0.2434 - val_accuracy: 0.8700 - val_loss: 0.2744\n",
      "Epoch 13/50\n",
      "25/25 - 0s - 9ms/step - accuracy: 0.8988 - loss: 0.2446 - val_accuracy: 0.8650 - val_loss: 0.2718\n",
      "Epoch 14/50\n",
      "25/25 - 0s - 10ms/step - accuracy: 0.8900 - loss: 0.2518 - val_accuracy: 0.8750 - val_loss: 0.2724\n",
      "Epoch 15/50\n",
      "25/25 - 0s - 9ms/step - accuracy: 0.9038 - loss: 0.2488 - val_accuracy: 0.8700 - val_loss: 0.2738\n",
      "Epoch 16/50\n",
      "25/25 - 0s - 10ms/step - accuracy: 0.8863 - loss: 0.2496 - val_accuracy: 0.8700 - val_loss: 0.2759\n",
      "Epoch 17/50\n",
      "25/25 - 0s - 9ms/step - accuracy: 0.8875 - loss: 0.2572 - val_accuracy: 0.8700 - val_loss: 0.2728\n",
      "Epoch 18/50\n",
      "25/25 - 0s - 9ms/step - accuracy: 0.8875 - loss: 0.2494 - val_accuracy: 0.8650 - val_loss: 0.2740\n",
      "Epoch 19/50\n",
      "25/25 - 0s - 9ms/step - accuracy: 0.8938 - loss: 0.2476 - val_accuracy: 0.8700 - val_loss: 0.2738\n",
      "Epoch 20/50\n",
      "25/25 - 0s - 9ms/step - accuracy: 0.8963 - loss: 0.2516 - val_accuracy: 0.8700 - val_loss: 0.2748\n",
      "Epoch 21/50\n",
      "25/25 - 0s - 9ms/step - accuracy: 0.9025 - loss: 0.2384 - val_accuracy: 0.8650 - val_loss: 0.2736\n",
      "Epoch 22/50\n",
      "25/25 - 0s - 9ms/step - accuracy: 0.8850 - loss: 0.2490 - val_accuracy: 0.8900 - val_loss: 0.2722\n",
      "Epoch 23/50\n",
      "25/25 - 0s - 9ms/step - accuracy: 0.9000 - loss: 0.2521 - val_accuracy: 0.8800 - val_loss: 0.2710\n",
      "Epoch 24/50\n",
      "25/25 - 0s - 9ms/step - accuracy: 0.8900 - loss: 0.2478 - val_accuracy: 0.8800 - val_loss: 0.2707\n",
      "Epoch 25/50\n",
      "25/25 - 0s - 10ms/step - accuracy: 0.8975 - loss: 0.2424 - val_accuracy: 0.8650 - val_loss: 0.2718\n",
      "Epoch 26/50\n",
      "25/25 - 0s - 9ms/step - accuracy: 0.8988 - loss: 0.2490 - val_accuracy: 0.8700 - val_loss: 0.2700\n",
      "Epoch 27/50\n",
      "25/25 - 0s - 9ms/step - accuracy: 0.9013 - loss: 0.2403 - val_accuracy: 0.8800 - val_loss: 0.2690\n",
      "Epoch 28/50\n",
      "25/25 - 0s - 9ms/step - accuracy: 0.8913 - loss: 0.2445 - val_accuracy: 0.8850 - val_loss: 0.2679\n",
      "Epoch 29/50\n",
      "25/25 - 0s - 9ms/step - accuracy: 0.8900 - loss: 0.2449 - val_accuracy: 0.8850 - val_loss: 0.2648\n",
      "Epoch 30/50\n",
      "25/25 - 0s - 9ms/step - accuracy: 0.8925 - loss: 0.2387 - val_accuracy: 0.8800 - val_loss: 0.2648\n",
      "Epoch 31/50\n",
      "25/25 - 0s - 10ms/step - accuracy: 0.8800 - loss: 0.2484 - val_accuracy: 0.8850 - val_loss: 0.2645\n",
      "Epoch 32/50\n",
      "25/25 - 0s - 8ms/step - accuracy: 0.8913 - loss: 0.2277 - val_accuracy: 0.8900 - val_loss: 0.2641\n",
      "Epoch 33/50\n",
      "25/25 - 0s - 9ms/step - accuracy: 0.9125 - loss: 0.2265 - val_accuracy: 0.8750 - val_loss: 0.2644\n",
      "Epoch 34/50\n",
      "25/25 - 0s - 9ms/step - accuracy: 0.9013 - loss: 0.2347 - val_accuracy: 0.8800 - val_loss: 0.2651\n",
      "Epoch 35/50\n",
      "25/25 - 0s - 10ms/step - accuracy: 0.9137 - loss: 0.2270 - val_accuracy: 0.8850 - val_loss: 0.2649\n",
      "Epoch 36/50\n",
      "25/25 - 0s - 9ms/step - accuracy: 0.8950 - loss: 0.2507 - val_accuracy: 0.8800 - val_loss: 0.2668\n",
      "Epoch 37/50\n",
      "25/25 - 0s - 9ms/step - accuracy: 0.8988 - loss: 0.2366 - val_accuracy: 0.8850 - val_loss: 0.2646\n",
      "Epoch 38/50\n",
      "25/25 - 0s - 9ms/step - accuracy: 0.9025 - loss: 0.2290 - val_accuracy: 0.8800 - val_loss: 0.2645\n",
      "Epoch 39/50\n",
      "25/25 - 0s - 9ms/step - accuracy: 0.8975 - loss: 0.2344 - val_accuracy: 0.8800 - val_loss: 0.2653\n",
      "Epoch 40/50\n",
      "25/25 - 0s - 9ms/step - accuracy: 0.8888 - loss: 0.2528 - val_accuracy: 0.8850 - val_loss: 0.2606\n",
      "Epoch 41/50\n",
      "25/25 - 0s - 9ms/step - accuracy: 0.9137 - loss: 0.2157 - val_accuracy: 0.8900 - val_loss: 0.2591\n",
      "Epoch 42/50\n",
      "25/25 - 0s - 10ms/step - accuracy: 0.9087 - loss: 0.2314 - val_accuracy: 0.8850 - val_loss: 0.2569\n",
      "Epoch 43/50\n",
      "25/25 - 0s - 9ms/step - accuracy: 0.9075 - loss: 0.2173 - val_accuracy: 0.8850 - val_loss: 0.2589\n",
      "Epoch 44/50\n",
      "25/25 - 0s - 8ms/step - accuracy: 0.9112 - loss: 0.2168 - val_accuracy: 0.8850 - val_loss: 0.2597\n",
      "Epoch 45/50\n",
      "25/25 - 0s - 9ms/step - accuracy: 0.9025 - loss: 0.2272 - val_accuracy: 0.8750 - val_loss: 0.2604\n",
      "Epoch 46/50\n",
      "25/25 - 0s - 8ms/step - accuracy: 0.9137 - loss: 0.2284 - val_accuracy: 0.8750 - val_loss: 0.2586\n",
      "Epoch 47/50\n",
      "25/25 - 0s - 9ms/step - accuracy: 0.9013 - loss: 0.2231 - val_accuracy: 0.8800 - val_loss: 0.2588\n",
      "Epoch 48/50\n",
      "25/25 - 0s - 9ms/step - accuracy: 0.8863 - loss: 0.2399 - val_accuracy: 0.8750 - val_loss: 0.2600\n",
      "Epoch 49/50\n",
      "25/25 - 0s - 8ms/step - accuracy: 0.8950 - loss: 0.2329 - val_accuracy: 0.8850 - val_loss: 0.2585\n",
      "Epoch 50/50\n",
      "25/25 - 0s - 9ms/step - accuracy: 0.8975 - loss: 0.2346 - val_accuracy: 0.8850 - val_loss: 0.2580\n"
     ]
    },
    {
     "data": {
      "text/plain": [
       "<keras.src.callbacks.history.History at 0x1ef00f23390>"
      ]
     },
     "execution_count": 53,
     "metadata": {},
     "output_type": "execute_result"
    }
   ],
   "source": [
    "training_model.fit(\n",
    "    preprocessed_train_ds,\n",
    "    epochs=50,\n",
    "    validation_data=preprocessed_test_ds,\n",
    "    verbose=2,\n",
    ")"
   ]
  },
  {
   "cell_type": "markdown",
   "id": "2357e41b-8e8d-49f7-aea6-39f48aab9ef4",
   "metadata": {},
   "source": [
    "#### Model Summary"
   ]
  },
  {
   "cell_type": "code",
   "execution_count": 54,
   "id": "d6701341-f43e-451d-9226-aa8b3ca0ba7d",
   "metadata": {},
   "outputs": [
    {
     "data": {
      "text/html": [
       "<pre style=\"white-space:pre;overflow-x:auto;line-height:normal;font-family:Menlo,'DejaVu Sans Mono',consolas,'Courier New',monospace\"><span style=\"font-weight: bold\">Model: \"functional\"</span>\n",
       "</pre>\n"
      ],
      "text/plain": [
       "\u001b[1mModel: \"functional\"\u001b[0m\n"
      ]
     },
     "metadata": {},
     "output_type": "display_data"
    },
    {
     "data": {
      "text/html": [
       "<pre style=\"white-space:pre;overflow-x:auto;line-height:normal;font-family:Menlo,'DejaVu Sans Mono',consolas,'Courier New',monospace\">┏━━━━━━━━━━━━━━━━━━━━━━━━━━━━━━━━━━━━━━┳━━━━━━━━━━━━━━━━━━━━━━━━━━━━━┳━━━━━━━━━━━━━━━━━┓\n",
       "┃<span style=\"font-weight: bold\"> Layer (type)                         </span>┃<span style=\"font-weight: bold\"> Output Shape                </span>┃<span style=\"font-weight: bold\">         Param # </span>┃\n",
       "┡━━━━━━━━━━━━━━━━━━━━━━━━━━━━━━━━━━━━━━╇━━━━━━━━━━━━━━━━━━━━━━━━━━━━━╇━━━━━━━━━━━━━━━━━┩\n",
       "│ keras_tensor_11CLONE (<span style=\"color: #0087ff; text-decoration-color: #0087ff\">InputLayer</span>)    │ (<span style=\"color: #00d7ff; text-decoration-color: #00d7ff\">None</span>, <span style=\"color: #00af00; text-decoration-color: #00af00\">24</span>)                  │               <span style=\"color: #00af00; text-decoration-color: #00af00\">0</span> │\n",
       "├──────────────────────────────────────┼─────────────────────────────┼─────────────────┤\n",
       "│ dense_3 (<span style=\"color: #0087ff; text-decoration-color: #0087ff\">Dense</span>)                      │ (<span style=\"color: #00d7ff; text-decoration-color: #00d7ff\">None</span>, <span style=\"color: #00af00; text-decoration-color: #00af00\">32</span>)                  │             <span style=\"color: #00af00; text-decoration-color: #00af00\">800</span> │\n",
       "├──────────────────────────────────────┼─────────────────────────────┼─────────────────┤\n",
       "│ dropout_1 (<span style=\"color: #0087ff; text-decoration-color: #0087ff\">Dropout</span>)                  │ (<span style=\"color: #00d7ff; text-decoration-color: #00d7ff\">None</span>, <span style=\"color: #00af00; text-decoration-color: #00af00\">32</span>)                  │               <span style=\"color: #00af00; text-decoration-color: #00af00\">0</span> │\n",
       "├──────────────────────────────────────┼─────────────────────────────┼─────────────────┤\n",
       "│ dense_4 (<span style=\"color: #0087ff; text-decoration-color: #0087ff\">Dense</span>)                      │ (<span style=\"color: #00d7ff; text-decoration-color: #00d7ff\">None</span>, <span style=\"color: #00af00; text-decoration-color: #00af00\">4</span>)                   │             <span style=\"color: #00af00; text-decoration-color: #00af00\">132</span> │\n",
       "└──────────────────────────────────────┴─────────────────────────────┴─────────────────┘\n",
       "</pre>\n"
      ],
      "text/plain": [
       "┏━━━━━━━━━━━━━━━━━━━━━━━━━━━━━━━━━━━━━━┳━━━━━━━━━━━━━━━━━━━━━━━━━━━━━┳━━━━━━━━━━━━━━━━━┓\n",
       "┃\u001b[1m \u001b[0m\u001b[1mLayer (type)                        \u001b[0m\u001b[1m \u001b[0m┃\u001b[1m \u001b[0m\u001b[1mOutput Shape               \u001b[0m\u001b[1m \u001b[0m┃\u001b[1m \u001b[0m\u001b[1m        Param #\u001b[0m\u001b[1m \u001b[0m┃\n",
       "┡━━━━━━━━━━━━━━━━━━━━━━━━━━━━━━━━━━━━━━╇━━━━━━━━━━━━━━━━━━━━━━━━━━━━━╇━━━━━━━━━━━━━━━━━┩\n",
       "│ keras_tensor_11CLONE (\u001b[38;5;33mInputLayer\u001b[0m)    │ (\u001b[38;5;45mNone\u001b[0m, \u001b[38;5;34m24\u001b[0m)                  │               \u001b[38;5;34m0\u001b[0m │\n",
       "├──────────────────────────────────────┼─────────────────────────────┼─────────────────┤\n",
       "│ dense_3 (\u001b[38;5;33mDense\u001b[0m)                      │ (\u001b[38;5;45mNone\u001b[0m, \u001b[38;5;34m32\u001b[0m)                  │             \u001b[38;5;34m800\u001b[0m │\n",
       "├──────────────────────────────────────┼─────────────────────────────┼─────────────────┤\n",
       "│ dropout_1 (\u001b[38;5;33mDropout\u001b[0m)                  │ (\u001b[38;5;45mNone\u001b[0m, \u001b[38;5;34m32\u001b[0m)                  │               \u001b[38;5;34m0\u001b[0m │\n",
       "├──────────────────────────────────────┼─────────────────────────────┼─────────────────┤\n",
       "│ dense_4 (\u001b[38;5;33mDense\u001b[0m)                      │ (\u001b[38;5;45mNone\u001b[0m, \u001b[38;5;34m4\u001b[0m)                   │             \u001b[38;5;34m132\u001b[0m │\n",
       "└──────────────────────────────────────┴─────────────────────────────┴─────────────────┘\n"
      ]
     },
     "metadata": {},
     "output_type": "display_data"
    },
    {
     "data": {
      "text/html": [
       "<pre style=\"white-space:pre;overflow-x:auto;line-height:normal;font-family:Menlo,'DejaVu Sans Mono',consolas,'Courier New',monospace\"><span style=\"font-weight: bold\"> Total params: </span><span style=\"color: #00af00; text-decoration-color: #00af00\">2,798</span> (10.93 KB)\n",
       "</pre>\n"
      ],
      "text/plain": [
       "\u001b[1m Total params: \u001b[0m\u001b[38;5;34m2,798\u001b[0m (10.93 KB)\n"
      ]
     },
     "metadata": {},
     "output_type": "display_data"
    },
    {
     "data": {
      "text/html": [
       "<pre style=\"white-space:pre;overflow-x:auto;line-height:normal;font-family:Menlo,'DejaVu Sans Mono',consolas,'Courier New',monospace\"><span style=\"font-weight: bold\"> Trainable params: </span><span style=\"color: #00af00; text-decoration-color: #00af00\">932</span> (3.64 KB)\n",
       "</pre>\n"
      ],
      "text/plain": [
       "\u001b[1m Trainable params: \u001b[0m\u001b[38;5;34m932\u001b[0m (3.64 KB)\n"
      ]
     },
     "metadata": {},
     "output_type": "display_data"
    },
    {
     "data": {
      "text/html": [
       "<pre style=\"white-space:pre;overflow-x:auto;line-height:normal;font-family:Menlo,'DejaVu Sans Mono',consolas,'Courier New',monospace\"><span style=\"font-weight: bold\"> Non-trainable params: </span><span style=\"color: #00af00; text-decoration-color: #00af00\">0</span> (0.00 B)\n",
       "</pre>\n"
      ],
      "text/plain": [
       "\u001b[1m Non-trainable params: \u001b[0m\u001b[38;5;34m0\u001b[0m (0.00 B)\n"
      ]
     },
     "metadata": {},
     "output_type": "display_data"
    },
    {
     "data": {
      "text/html": [
       "<pre style=\"white-space:pre;overflow-x:auto;line-height:normal;font-family:Menlo,'DejaVu Sans Mono',consolas,'Courier New',monospace\"><span style=\"font-weight: bold\"> Optimizer params: </span><span style=\"color: #00af00; text-decoration-color: #00af00\">1,866</span> (7.29 KB)\n",
       "</pre>\n"
      ],
      "text/plain": [
       "\u001b[1m Optimizer params: \u001b[0m\u001b[38;5;34m1,866\u001b[0m (7.29 KB)\n"
      ]
     },
     "metadata": {},
     "output_type": "display_data"
    }
   ],
   "source": [
    "training_model.summary()"
   ]
  },
  {
   "cell_type": "code",
   "execution_count": 55,
   "id": "148f451a-9b9d-4671-90da-0869ca7582e6",
   "metadata": {},
   "outputs": [
    {
     "data": {
      "text/html": [
       "<pre style=\"white-space:pre;overflow-x:auto;line-height:normal;font-family:Menlo,'DejaVu Sans Mono',consolas,'Courier New',monospace\"><span style=\"font-weight: bold\">Model: \"functional_1\"</span>\n",
       "</pre>\n"
      ],
      "text/plain": [
       "\u001b[1mModel: \"functional_1\"\u001b[0m\n"
      ]
     },
     "metadata": {},
     "output_type": "display_data"
    },
    {
     "data": {
      "text/html": [
       "<pre style=\"white-space:pre;overflow-x:auto;line-height:normal;font-family:Menlo,'DejaVu Sans Mono',consolas,'Courier New',monospace\">┏━━━━━━━━━━━━━━━━━━━━━━━━━━━━━━━┳━━━━━━━━━━━━━━━━━━━━━━━━━━━┳━━━━━━━━━━━━━━━━━┳━━━━━━━━━━━━━━━━━━━━━━━━━━━━┓\n",
       "┃<span style=\"font-weight: bold\"> Layer (type)                  </span>┃<span style=\"font-weight: bold\"> Output Shape              </span>┃<span style=\"font-weight: bold\">         Param # </span>┃<span style=\"font-weight: bold\"> Connected to               </span>┃\n",
       "┡━━━━━━━━━━━━━━━━━━━━━━━━━━━━━━━╇━━━━━━━━━━━━━━━━━━━━━━━━━━━╇━━━━━━━━━━━━━━━━━╇━━━━━━━━━━━━━━━━━━━━━━━━━━━━┩\n",
       "│ Age (<span style=\"color: #0087ff; text-decoration-color: #0087ff\">InputLayer</span>)              │ (<span style=\"color: #00d7ff; text-decoration-color: #00d7ff\">None</span>, <span style=\"color: #00af00; text-decoration-color: #00af00\">1</span>)                 │               <span style=\"color: #00af00; text-decoration-color: #00af00\">0</span> │ -                          │\n",
       "├───────────────────────────────┼───────────────────────────┼─────────────────┼────────────────────────────┤\n",
       "│ BMI (<span style=\"color: #0087ff; text-decoration-color: #0087ff\">InputLayer</span>)              │ (<span style=\"color: #00d7ff; text-decoration-color: #00d7ff\">None</span>, <span style=\"color: #00af00; text-decoration-color: #00af00\">1</span>)                 │               <span style=\"color: #00af00; text-decoration-color: #00af00\">0</span> │ -                          │\n",
       "├───────────────────────────────┼───────────────────────────┼─────────────────┼────────────────────────────┤\n",
       "│ Gender (<span style=\"color: #0087ff; text-decoration-color: #0087ff\">InputLayer</span>)           │ (<span style=\"color: #00d7ff; text-decoration-color: #00d7ff\">None</span>, <span style=\"color: #00af00; text-decoration-color: #00af00\">1</span>)                 │               <span style=\"color: #00af00; text-decoration-color: #00af00\">0</span> │ -                          │\n",
       "├───────────────────────────────┼───────────────────────────┼─────────────────┼────────────────────────────┤\n",
       "│ PhysicalActivityLevel         │ (<span style=\"color: #00d7ff; text-decoration-color: #00d7ff\">None</span>, <span style=\"color: #00af00; text-decoration-color: #00af00\">1</span>)                 │               <span style=\"color: #00af00; text-decoration-color: #00af00\">0</span> │ -                          │\n",
       "│ (<span style=\"color: #0087ff; text-decoration-color: #0087ff\">InputLayer</span>)                  │                           │                 │                            │\n",
       "├───────────────────────────────┼───────────────────────────┼─────────────────┼────────────────────────────┤\n",
       "│ Weight (<span style=\"color: #0087ff; text-decoration-color: #0087ff\">InputLayer</span>)           │ (<span style=\"color: #00d7ff; text-decoration-color: #00d7ff\">None</span>, <span style=\"color: #00af00; text-decoration-color: #00af00\">1</span>)                 │               <span style=\"color: #00af00; text-decoration-color: #00af00\">0</span> │ -                          │\n",
       "├───────────────────────────────┼───────────────────────────┼─────────────────┼────────────────────────────┤\n",
       "│ float_discretized_preprocess… │ (<span style=\"color: #00d7ff; text-decoration-color: #00d7ff\">None</span>, <span style=\"color: #00af00; text-decoration-color: #00af00\">1</span>)                 │               <span style=\"color: #00af00; text-decoration-color: #00af00\">0</span> │ Age[<span style=\"color: #00af00; text-decoration-color: #00af00\">0</span>][<span style=\"color: #00af00; text-decoration-color: #00af00\">0</span>]                  │\n",
       "│ (<span style=\"color: #0087ff; text-decoration-color: #0087ff\">Discretization</span>)              │                           │                 │                            │\n",
       "├───────────────────────────────┼───────────────────────────┼─────────────────┼────────────────────────────┤\n",
       "│ float_discretized_2_preproce… │ (<span style=\"color: #00d7ff; text-decoration-color: #00d7ff\">None</span>, <span style=\"color: #00af00; text-decoration-color: #00af00\">1</span>)                 │               <span style=\"color: #00af00; text-decoration-color: #00af00\">0</span> │ BMI[<span style=\"color: #00af00; text-decoration-color: #00af00\">0</span>][<span style=\"color: #00af00; text-decoration-color: #00af00\">0</span>]                  │\n",
       "│ (<span style=\"color: #0087ff; text-decoration-color: #0087ff\">Discretization</span>)              │                           │                 │                            │\n",
       "├───────────────────────────────┼───────────────────────────┼─────────────────┼────────────────────────────┤\n",
       "│ string_categorical_preproces… │ (<span style=\"color: #00d7ff; text-decoration-color: #00d7ff\">None</span>, <span style=\"color: #00af00; text-decoration-color: #00af00\">1</span>)                 │               <span style=\"color: #00af00; text-decoration-color: #00af00\">0</span> │ Gender[<span style=\"color: #00af00; text-decoration-color: #00af00\">0</span>][<span style=\"color: #00af00; text-decoration-color: #00af00\">0</span>]               │\n",
       "│ (<span style=\"color: #0087ff; text-decoration-color: #0087ff\">StringLookup</span>)                │                           │                 │                            │\n",
       "├───────────────────────────────┼───────────────────────────┼─────────────────┼────────────────────────────┤\n",
       "│ Height (<span style=\"color: #0087ff; text-decoration-color: #0087ff\">InputLayer</span>)           │ (<span style=\"color: #00d7ff; text-decoration-color: #00d7ff\">None</span>, <span style=\"color: #00af00; text-decoration-color: #00af00\">1</span>)                 │               <span style=\"color: #00af00; text-decoration-color: #00af00\">0</span> │ -                          │\n",
       "├───────────────────────────────┼───────────────────────────┼─────────────────┼────────────────────────────┤\n",
       "│ integer_categorical_preproce… │ (<span style=\"color: #00d7ff; text-decoration-color: #00d7ff\">None</span>, <span style=\"color: #00af00; text-decoration-color: #00af00\">1</span>)                 │               <span style=\"color: #00af00; text-decoration-color: #00af00\">0</span> │ PhysicalActivityLevel[<span style=\"color: #00af00; text-decoration-color: #00af00\">0</span>][<span style=\"color: #00af00; text-decoration-color: #00af00\">…</span> │\n",
       "│ (<span style=\"color: #0087ff; text-decoration-color: #0087ff\">IntegerLookup</span>)               │                           │                 │                            │\n",
       "├───────────────────────────────┼───────────────────────────┼─────────────────┼────────────────────────────┤\n",
       "│ float_discretized_1_preproce… │ (<span style=\"color: #00d7ff; text-decoration-color: #00d7ff\">None</span>, <span style=\"color: #00af00; text-decoration-color: #00af00\">1</span>)                 │               <span style=\"color: #00af00; text-decoration-color: #00af00\">0</span> │ Weight[<span style=\"color: #00af00; text-decoration-color: #00af00\">0</span>][<span style=\"color: #00af00; text-decoration-color: #00af00\">0</span>]               │\n",
       "│ (<span style=\"color: #0087ff; text-decoration-color: #0087ff\">Discretization</span>)              │                           │                 │                            │\n",
       "├───────────────────────────────┼───────────────────────────┼─────────────────┼────────────────────────────┤\n",
       "│ category_encoding             │ (<span style=\"color: #00d7ff; text-decoration-color: #00d7ff\">None</span>, <span style=\"color: #00af00; text-decoration-color: #00af00\">4</span>)                 │               <span style=\"color: #00af00; text-decoration-color: #00af00\">0</span> │ float_discretized_preproc… │\n",
       "│ (<span style=\"color: #0087ff; text-decoration-color: #0087ff\">CategoryEncoding</span>)            │                           │                 │                            │\n",
       "├───────────────────────────────┼───────────────────────────┼─────────────────┼────────────────────────────┤\n",
       "│ category_encoding_1           │ (<span style=\"color: #00d7ff; text-decoration-color: #00d7ff\">None</span>, <span style=\"color: #00af00; text-decoration-color: #00af00\">5</span>)                 │               <span style=\"color: #00af00; text-decoration-color: #00af00\">0</span> │ float_discretized_2_prepr… │\n",
       "│ (<span style=\"color: #0087ff; text-decoration-color: #0087ff\">CategoryEncoding</span>)            │                           │                 │                            │\n",
       "├───────────────────────────────┼───────────────────────────┼─────────────────┼────────────────────────────┤\n",
       "│ category_encoding_2           │ (<span style=\"color: #00d7ff; text-decoration-color: #00d7ff\">None</span>, <span style=\"color: #00af00; text-decoration-color: #00af00\">2</span>)                 │               <span style=\"color: #00af00; text-decoration-color: #00af00\">0</span> │ string_categorical_prepro… │\n",
       "│ (<span style=\"color: #0087ff; text-decoration-color: #0087ff\">CategoryEncoding</span>)            │                           │                 │                            │\n",
       "├───────────────────────────────┼───────────────────────────┼─────────────────┼────────────────────────────┤\n",
       "│ float_normalized_preprocessor │ (<span style=\"color: #00d7ff; text-decoration-color: #00d7ff\">None</span>, <span style=\"color: #00af00; text-decoration-color: #00af00\">1</span>)                 │               <span style=\"color: #00af00; text-decoration-color: #00af00\">3</span> │ Height[<span style=\"color: #00af00; text-decoration-color: #00af00\">0</span>][<span style=\"color: #00af00; text-decoration-color: #00af00\">0</span>]               │\n",
       "│ (<span style=\"color: #0087ff; text-decoration-color: #0087ff\">Normalization</span>)               │                           │                 │                            │\n",
       "├───────────────────────────────┼───────────────────────────┼─────────────────┼────────────────────────────┤\n",
       "│ category_encoding_3           │ (<span style=\"color: #00d7ff; text-decoration-color: #00d7ff\">None</span>, <span style=\"color: #00af00; text-decoration-color: #00af00\">4</span>)                 │               <span style=\"color: #00af00; text-decoration-color: #00af00\">0</span> │ integer_categorical_prepr… │\n",
       "│ (<span style=\"color: #0087ff; text-decoration-color: #0087ff\">CategoryEncoding</span>)            │                           │                 │                            │\n",
       "├───────────────────────────────┼───────────────────────────┼─────────────────┼────────────────────────────┤\n",
       "│ category_encoding_4           │ (<span style=\"color: #00d7ff; text-decoration-color: #00d7ff\">None</span>, <span style=\"color: #00af00; text-decoration-color: #00af00\">8</span>)                 │               <span style=\"color: #00af00; text-decoration-color: #00af00\">0</span> │ float_discretized_1_prepr… │\n",
       "│ (<span style=\"color: #0087ff; text-decoration-color: #0087ff\">CategoryEncoding</span>)            │                           │                 │                            │\n",
       "├───────────────────────────────┼───────────────────────────┼─────────────────┼────────────────────────────┤\n",
       "│ tfd_concat (<span style=\"color: #0087ff; text-decoration-color: #0087ff\">TFDConcat</span>)        │ (<span style=\"color: #00d7ff; text-decoration-color: #00d7ff\">None</span>, <span style=\"color: #00af00; text-decoration-color: #00af00\">24</span>)                │               <span style=\"color: #00af00; text-decoration-color: #00af00\">0</span> │ category_encoding[<span style=\"color: #00af00; text-decoration-color: #00af00\">0</span>][<span style=\"color: #00af00; text-decoration-color: #00af00\">0</span>],   │\n",
       "│                               │                           │                 │ category_encoding_1[<span style=\"color: #00af00; text-decoration-color: #00af00\">0</span>][<span style=\"color: #00af00; text-decoration-color: #00af00\">0</span>], │\n",
       "│                               │                           │                 │ category_encoding_2[<span style=\"color: #00af00; text-decoration-color: #00af00\">0</span>][<span style=\"color: #00af00; text-decoration-color: #00af00\">0</span>], │\n",
       "│                               │                           │                 │ float_normalized_preproce… │\n",
       "│                               │                           │                 │ category_encoding_3[<span style=\"color: #00af00; text-decoration-color: #00af00\">0</span>][<span style=\"color: #00af00; text-decoration-color: #00af00\">0</span>], │\n",
       "│                               │                           │                 │ category_encoding_4[<span style=\"color: #00af00; text-decoration-color: #00af00\">0</span>][<span style=\"color: #00af00; text-decoration-color: #00af00\">0</span>]  │\n",
       "├───────────────────────────────┼───────────────────────────┼─────────────────┼────────────────────────────┤\n",
       "│ dense_3 (<span style=\"color: #0087ff; text-decoration-color: #0087ff\">Dense</span>)               │ (<span style=\"color: #00d7ff; text-decoration-color: #00d7ff\">None</span>, <span style=\"color: #00af00; text-decoration-color: #00af00\">32</span>)                │             <span style=\"color: #00af00; text-decoration-color: #00af00\">800</span> │ tfd_concat[<span style=\"color: #00af00; text-decoration-color: #00af00\">0</span>][<span style=\"color: #00af00; text-decoration-color: #00af00\">0</span>]           │\n",
       "├───────────────────────────────┼───────────────────────────┼─────────────────┼────────────────────────────┤\n",
       "│ dropout_1 (<span style=\"color: #0087ff; text-decoration-color: #0087ff\">Dropout</span>)           │ (<span style=\"color: #00d7ff; text-decoration-color: #00d7ff\">None</span>, <span style=\"color: #00af00; text-decoration-color: #00af00\">32</span>)                │               <span style=\"color: #00af00; text-decoration-color: #00af00\">0</span> │ dense_3[<span style=\"color: #00af00; text-decoration-color: #00af00\">0</span>][<span style=\"color: #00af00; text-decoration-color: #00af00\">0</span>]              │\n",
       "├───────────────────────────────┼───────────────────────────┼─────────────────┼────────────────────────────┤\n",
       "│ dense_4 (<span style=\"color: #0087ff; text-decoration-color: #0087ff\">Dense</span>)               │ (<span style=\"color: #00d7ff; text-decoration-color: #00d7ff\">None</span>, <span style=\"color: #00af00; text-decoration-color: #00af00\">4</span>)                 │             <span style=\"color: #00af00; text-decoration-color: #00af00\">132</span> │ dropout_1[<span style=\"color: #00af00; text-decoration-color: #00af00\">0</span>][<span style=\"color: #00af00; text-decoration-color: #00af00\">0</span>]            │\n",
       "└───────────────────────────────┴───────────────────────────┴─────────────────┴────────────────────────────┘\n",
       "</pre>\n"
      ],
      "text/plain": [
       "┏━━━━━━━━━━━━━━━━━━━━━━━━━━━━━━━┳━━━━━━━━━━━━━━━━━━━━━━━━━━━┳━━━━━━━━━━━━━━━━━┳━━━━━━━━━━━━━━━━━━━━━━━━━━━━┓\n",
       "┃\u001b[1m \u001b[0m\u001b[1mLayer (type)                 \u001b[0m\u001b[1m \u001b[0m┃\u001b[1m \u001b[0m\u001b[1mOutput Shape             \u001b[0m\u001b[1m \u001b[0m┃\u001b[1m \u001b[0m\u001b[1m        Param #\u001b[0m\u001b[1m \u001b[0m┃\u001b[1m \u001b[0m\u001b[1mConnected to              \u001b[0m\u001b[1m \u001b[0m┃\n",
       "┡━━━━━━━━━━━━━━━━━━━━━━━━━━━━━━━╇━━━━━━━━━━━━━━━━━━━━━━━━━━━╇━━━━━━━━━━━━━━━━━╇━━━━━━━━━━━━━━━━━━━━━━━━━━━━┩\n",
       "│ Age (\u001b[38;5;33mInputLayer\u001b[0m)              │ (\u001b[38;5;45mNone\u001b[0m, \u001b[38;5;34m1\u001b[0m)                 │               \u001b[38;5;34m0\u001b[0m │ -                          │\n",
       "├───────────────────────────────┼───────────────────────────┼─────────────────┼────────────────────────────┤\n",
       "│ BMI (\u001b[38;5;33mInputLayer\u001b[0m)              │ (\u001b[38;5;45mNone\u001b[0m, \u001b[38;5;34m1\u001b[0m)                 │               \u001b[38;5;34m0\u001b[0m │ -                          │\n",
       "├───────────────────────────────┼───────────────────────────┼─────────────────┼────────────────────────────┤\n",
       "│ Gender (\u001b[38;5;33mInputLayer\u001b[0m)           │ (\u001b[38;5;45mNone\u001b[0m, \u001b[38;5;34m1\u001b[0m)                 │               \u001b[38;5;34m0\u001b[0m │ -                          │\n",
       "├───────────────────────────────┼───────────────────────────┼─────────────────┼────────────────────────────┤\n",
       "│ PhysicalActivityLevel         │ (\u001b[38;5;45mNone\u001b[0m, \u001b[38;5;34m1\u001b[0m)                 │               \u001b[38;5;34m0\u001b[0m │ -                          │\n",
       "│ (\u001b[38;5;33mInputLayer\u001b[0m)                  │                           │                 │                            │\n",
       "├───────────────────────────────┼───────────────────────────┼─────────────────┼────────────────────────────┤\n",
       "│ Weight (\u001b[38;5;33mInputLayer\u001b[0m)           │ (\u001b[38;5;45mNone\u001b[0m, \u001b[38;5;34m1\u001b[0m)                 │               \u001b[38;5;34m0\u001b[0m │ -                          │\n",
       "├───────────────────────────────┼───────────────────────────┼─────────────────┼────────────────────────────┤\n",
       "│ float_discretized_preprocess… │ (\u001b[38;5;45mNone\u001b[0m, \u001b[38;5;34m1\u001b[0m)                 │               \u001b[38;5;34m0\u001b[0m │ Age[\u001b[38;5;34m0\u001b[0m][\u001b[38;5;34m0\u001b[0m]                  │\n",
       "│ (\u001b[38;5;33mDiscretization\u001b[0m)              │                           │                 │                            │\n",
       "├───────────────────────────────┼───────────────────────────┼─────────────────┼────────────────────────────┤\n",
       "│ float_discretized_2_preproce… │ (\u001b[38;5;45mNone\u001b[0m, \u001b[38;5;34m1\u001b[0m)                 │               \u001b[38;5;34m0\u001b[0m │ BMI[\u001b[38;5;34m0\u001b[0m][\u001b[38;5;34m0\u001b[0m]                  │\n",
       "│ (\u001b[38;5;33mDiscretization\u001b[0m)              │                           │                 │                            │\n",
       "├───────────────────────────────┼───────────────────────────┼─────────────────┼────────────────────────────┤\n",
       "│ string_categorical_preproces… │ (\u001b[38;5;45mNone\u001b[0m, \u001b[38;5;34m1\u001b[0m)                 │               \u001b[38;5;34m0\u001b[0m │ Gender[\u001b[38;5;34m0\u001b[0m][\u001b[38;5;34m0\u001b[0m]               │\n",
       "│ (\u001b[38;5;33mStringLookup\u001b[0m)                │                           │                 │                            │\n",
       "├───────────────────────────────┼───────────────────────────┼─────────────────┼────────────────────────────┤\n",
       "│ Height (\u001b[38;5;33mInputLayer\u001b[0m)           │ (\u001b[38;5;45mNone\u001b[0m, \u001b[38;5;34m1\u001b[0m)                 │               \u001b[38;5;34m0\u001b[0m │ -                          │\n",
       "├───────────────────────────────┼───────────────────────────┼─────────────────┼────────────────────────────┤\n",
       "│ integer_categorical_preproce… │ (\u001b[38;5;45mNone\u001b[0m, \u001b[38;5;34m1\u001b[0m)                 │               \u001b[38;5;34m0\u001b[0m │ PhysicalActivityLevel[\u001b[38;5;34m0\u001b[0m][\u001b[38;5;34m…\u001b[0m │\n",
       "│ (\u001b[38;5;33mIntegerLookup\u001b[0m)               │                           │                 │                            │\n",
       "├───────────────────────────────┼───────────────────────────┼─────────────────┼────────────────────────────┤\n",
       "│ float_discretized_1_preproce… │ (\u001b[38;5;45mNone\u001b[0m, \u001b[38;5;34m1\u001b[0m)                 │               \u001b[38;5;34m0\u001b[0m │ Weight[\u001b[38;5;34m0\u001b[0m][\u001b[38;5;34m0\u001b[0m]               │\n",
       "│ (\u001b[38;5;33mDiscretization\u001b[0m)              │                           │                 │                            │\n",
       "├───────────────────────────────┼───────────────────────────┼─────────────────┼────────────────────────────┤\n",
       "│ category_encoding             │ (\u001b[38;5;45mNone\u001b[0m, \u001b[38;5;34m4\u001b[0m)                 │               \u001b[38;5;34m0\u001b[0m │ float_discretized_preproc… │\n",
       "│ (\u001b[38;5;33mCategoryEncoding\u001b[0m)            │                           │                 │                            │\n",
       "├───────────────────────────────┼───────────────────────────┼─────────────────┼────────────────────────────┤\n",
       "│ category_encoding_1           │ (\u001b[38;5;45mNone\u001b[0m, \u001b[38;5;34m5\u001b[0m)                 │               \u001b[38;5;34m0\u001b[0m │ float_discretized_2_prepr… │\n",
       "│ (\u001b[38;5;33mCategoryEncoding\u001b[0m)            │                           │                 │                            │\n",
       "├───────────────────────────────┼───────────────────────────┼─────────────────┼────────────────────────────┤\n",
       "│ category_encoding_2           │ (\u001b[38;5;45mNone\u001b[0m, \u001b[38;5;34m2\u001b[0m)                 │               \u001b[38;5;34m0\u001b[0m │ string_categorical_prepro… │\n",
       "│ (\u001b[38;5;33mCategoryEncoding\u001b[0m)            │                           │                 │                            │\n",
       "├───────────────────────────────┼───────────────────────────┼─────────────────┼────────────────────────────┤\n",
       "│ float_normalized_preprocessor │ (\u001b[38;5;45mNone\u001b[0m, \u001b[38;5;34m1\u001b[0m)                 │               \u001b[38;5;34m3\u001b[0m │ Height[\u001b[38;5;34m0\u001b[0m][\u001b[38;5;34m0\u001b[0m]               │\n",
       "│ (\u001b[38;5;33mNormalization\u001b[0m)               │                           │                 │                            │\n",
       "├───────────────────────────────┼───────────────────────────┼─────────────────┼────────────────────────────┤\n",
       "│ category_encoding_3           │ (\u001b[38;5;45mNone\u001b[0m, \u001b[38;5;34m4\u001b[0m)                 │               \u001b[38;5;34m0\u001b[0m │ integer_categorical_prepr… │\n",
       "│ (\u001b[38;5;33mCategoryEncoding\u001b[0m)            │                           │                 │                            │\n",
       "├───────────────────────────────┼───────────────────────────┼─────────────────┼────────────────────────────┤\n",
       "│ category_encoding_4           │ (\u001b[38;5;45mNone\u001b[0m, \u001b[38;5;34m8\u001b[0m)                 │               \u001b[38;5;34m0\u001b[0m │ float_discretized_1_prepr… │\n",
       "│ (\u001b[38;5;33mCategoryEncoding\u001b[0m)            │                           │                 │                            │\n",
       "├───────────────────────────────┼───────────────────────────┼─────────────────┼────────────────────────────┤\n",
       "│ tfd_concat (\u001b[38;5;33mTFDConcat\u001b[0m)        │ (\u001b[38;5;45mNone\u001b[0m, \u001b[38;5;34m24\u001b[0m)                │               \u001b[38;5;34m0\u001b[0m │ category_encoding[\u001b[38;5;34m0\u001b[0m][\u001b[38;5;34m0\u001b[0m],   │\n",
       "│                               │                           │                 │ category_encoding_1[\u001b[38;5;34m0\u001b[0m][\u001b[38;5;34m0\u001b[0m], │\n",
       "│                               │                           │                 │ category_encoding_2[\u001b[38;5;34m0\u001b[0m][\u001b[38;5;34m0\u001b[0m], │\n",
       "│                               │                           │                 │ float_normalized_preproce… │\n",
       "│                               │                           │                 │ category_encoding_3[\u001b[38;5;34m0\u001b[0m][\u001b[38;5;34m0\u001b[0m], │\n",
       "│                               │                           │                 │ category_encoding_4[\u001b[38;5;34m0\u001b[0m][\u001b[38;5;34m0\u001b[0m]  │\n",
       "├───────────────────────────────┼───────────────────────────┼─────────────────┼────────────────────────────┤\n",
       "│ dense_3 (\u001b[38;5;33mDense\u001b[0m)               │ (\u001b[38;5;45mNone\u001b[0m, \u001b[38;5;34m32\u001b[0m)                │             \u001b[38;5;34m800\u001b[0m │ tfd_concat[\u001b[38;5;34m0\u001b[0m][\u001b[38;5;34m0\u001b[0m]           │\n",
       "├───────────────────────────────┼───────────────────────────┼─────────────────┼────────────────────────────┤\n",
       "│ dropout_1 (\u001b[38;5;33mDropout\u001b[0m)           │ (\u001b[38;5;45mNone\u001b[0m, \u001b[38;5;34m32\u001b[0m)                │               \u001b[38;5;34m0\u001b[0m │ dense_3[\u001b[38;5;34m0\u001b[0m][\u001b[38;5;34m0\u001b[0m]              │\n",
       "├───────────────────────────────┼───────────────────────────┼─────────────────┼────────────────────────────┤\n",
       "│ dense_4 (\u001b[38;5;33mDense\u001b[0m)               │ (\u001b[38;5;45mNone\u001b[0m, \u001b[38;5;34m4\u001b[0m)                 │             \u001b[38;5;34m132\u001b[0m │ dropout_1[\u001b[38;5;34m0\u001b[0m][\u001b[38;5;34m0\u001b[0m]            │\n",
       "└───────────────────────────────┴───────────────────────────┴─────────────────┴────────────────────────────┘\n"
      ]
     },
     "metadata": {},
     "output_type": "display_data"
    },
    {
     "data": {
      "text/html": [
       "<pre style=\"white-space:pre;overflow-x:auto;line-height:normal;font-family:Menlo,'DejaVu Sans Mono',consolas,'Courier New',monospace\"><span style=\"font-weight: bold\"> Total params: </span><span style=\"color: #00af00; text-decoration-color: #00af00\">935</span> (3.66 KB)\n",
       "</pre>\n"
      ],
      "text/plain": [
       "\u001b[1m Total params: \u001b[0m\u001b[38;5;34m935\u001b[0m (3.66 KB)\n"
      ]
     },
     "metadata": {},
     "output_type": "display_data"
    },
    {
     "data": {
      "text/html": [
       "<pre style=\"white-space:pre;overflow-x:auto;line-height:normal;font-family:Menlo,'DejaVu Sans Mono',consolas,'Courier New',monospace\"><span style=\"font-weight: bold\"> Trainable params: </span><span style=\"color: #00af00; text-decoration-color: #00af00\">932</span> (3.64 KB)\n",
       "</pre>\n"
      ],
      "text/plain": [
       "\u001b[1m Trainable params: \u001b[0m\u001b[38;5;34m932\u001b[0m (3.64 KB)\n"
      ]
     },
     "metadata": {},
     "output_type": "display_data"
    },
    {
     "data": {
      "text/html": [
       "<pre style=\"white-space:pre;overflow-x:auto;line-height:normal;font-family:Menlo,'DejaVu Sans Mono',consolas,'Courier New',monospace\"><span style=\"font-weight: bold\"> Non-trainable params: </span><span style=\"color: #00af00; text-decoration-color: #00af00\">3</span> (16.00 B)\n",
       "</pre>\n"
      ],
      "text/plain": [
       "\u001b[1m Non-trainable params: \u001b[0m\u001b[38;5;34m3\u001b[0m (16.00 B)\n"
      ]
     },
     "metadata": {},
     "output_type": "display_data"
    }
   ],
   "source": [
    "inference_model.summary()"
   ]
  },
  {
   "cell_type": "markdown",
   "id": "d08127d5-0055-4568-bf7a-432d508c1547",
   "metadata": {},
   "source": [
    "## Prediction"
   ]
  },
  {
   "cell_type": "code",
   "execution_count": 68,
   "id": "b13d2ec8-a2c7-437d-897b-4f2687cf1ba7",
   "metadata": {},
   "outputs": [
    {
     "name": "stdout",
     "output_type": "stream",
     "text": [
      "\u001b[1m1/1\u001b[0m \u001b[32m━━━━━━━━━━━━━━━━━━━━\u001b[0m\u001b[37m\u001b[0m \u001b[1m0s\u001b[0m 50ms/step\n",
      "Overweight\n"
     ]
    }
   ],
   "source": [
    "sample = {\n",
    "    'Age': 25,\n",
    "    'BMI': 30,\n",
    "    'Gender': 'Female',\n",
    "    'Height': 175,\n",
    "    'Weight': 75,\n",
    "    'PhysicalActivityLevel': 2\n",
    "}\n",
    "\n",
    "raw_input = {\n",
    "    key: keras.ops.convert_to_tensor([value]) for key, value in sample.items()\n",
    "}\n",
    "\n",
    "prediction = inference_model.predict(raw_input)\n",
    "\n",
    "if prediction.argmax() == 0:\n",
    "    print('Normal weight')\n",
    "elif prediction.argmax() == 1:\n",
    "    print('Underweight')\n",
    "elif prediction.argmax() == 2:\n",
    "    print('Overweight')\n",
    "else:\n",
    "    print('Obese')\n"
   ]
  },
  {
   "cell_type": "markdown",
   "id": "cf57b5e4-468f-412c-aba4-92ee9a505e1b",
   "metadata": {},
   "source": [
    "## Model Saving"
   ]
  },
  {
   "cell_type": "code",
   "execution_count": 69,
   "id": "6e7b61ed-921c-4783-875a-d31c833a49aa",
   "metadata": {},
   "outputs": [],
   "source": [
    "inference_model.save('model.keras')"
   ]
  },
  {
   "cell_type": "code",
   "execution_count": null,
   "id": "2a279386-e381-4342-93ca-72ce64fe2b9b",
   "metadata": {},
   "outputs": [],
   "source": []
  }
 ],
 "metadata": {
  "kernelspec": {
   "display_name": "Python 3 (ipykernel)",
   "language": "python",
   "name": "python3"
  },
  "language_info": {
   "codemirror_mode": {
    "name": "ipython",
    "version": 3
   },
   "file_extension": ".py",
   "mimetype": "text/x-python",
   "name": "python",
   "nbconvert_exporter": "python",
   "pygments_lexer": "ipython3",
   "version": "3.11.7"
  }
 },
 "nbformat": 4,
 "nbformat_minor": 5
}
